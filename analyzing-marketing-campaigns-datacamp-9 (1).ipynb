{
 "cells": [
  {
   "cell_type": "code",
   "execution_count": 1,
   "id": "130b23be",
   "metadata": {
    "_cell_guid": "b1076dfc-b9ad-4769-8c92-a6c4dae69d19",
    "_uuid": "8f2839f25d086af736a60e9eeb907d3b93b6e0e5",
    "execution": {
     "iopub.execute_input": "2025-03-05T17:57:21.862417Z",
     "iopub.status.busy": "2025-03-05T17:57:21.861805Z",
     "iopub.status.idle": "2025-03-05T17:57:22.844599Z",
     "shell.execute_reply": "2025-03-05T17:57:22.843243Z"
    },
    "papermill": {
     "duration": 0.99434,
     "end_time": "2025-03-05T17:57:22.846434",
     "exception": false,
     "start_time": "2025-03-05T17:57:21.852094",
     "status": "completed"
    },
    "tags": []
   },
   "outputs": [
    {
     "name": "stdout",
     "output_type": "stream",
     "text": [
      "/kaggle/input/marketing-new/marketing_new.csv\n",
      "/kaggle/input/marketing/marketing.csv\n"
     ]
    }
   ],
   "source": [
    "# This Python 3 environment comes with many helpful analytics libraries installed\n",
    "# It is defined by the kaggle/python Docker image: https://github.com/kaggle/docker-python\n",
    "# For example, here's several helpful packages to load\n",
    "\n",
    "import numpy as np # linear algebra\n",
    "import pandas as pd # data processing, CSV file I/O (e.g. pd.read_csv)\n",
    "\n",
    "# Input data files are available in the read-only \"../input/\" directory\n",
    "# For example, running this (by clicking run or pressing Shift+Enter) will list all files under the input directory\n",
    "\n",
    "import os\n",
    "for dirname, _, filenames in os.walk('/kaggle/input'):\n",
    "    for filename in filenames:\n",
    "        print(os.path.join(dirname, filename))\n",
    "\n",
    "# You can write up to 20GB to the current directory (/kaggle/working/) that gets preserved as output when you create a version using \"Save & Run All\" \n",
    "# You can also write temporary files to /kaggle/temp/, but they won't be saved outside of the current session"
   ]
  },
  {
   "cell_type": "code",
   "execution_count": 2,
   "id": "c21267ff",
   "metadata": {
    "execution": {
     "iopub.execute_input": "2025-03-05T17:57:22.864443Z",
     "iopub.status.busy": "2025-03-05T17:57:22.863778Z",
     "iopub.status.idle": "2025-03-05T17:57:22.928439Z",
     "shell.execute_reply": "2025-03-05T17:57:22.927293Z"
    },
    "papermill": {
     "duration": 0.075721,
     "end_time": "2025-03-05T17:57:22.930509",
     "exception": false,
     "start_time": "2025-03-05T17:57:22.854788",
     "status": "completed"
    },
    "tags": []
   },
   "outputs": [
    {
     "name": "stdout",
     "output_type": "stream",
     "text": [
      "      user_id date_served marketing_channel          variant converted  \\\n",
      "0  a100000029      1/1/18         House Ads  personalization      True   \n",
      "1  a100000030      1/1/18         House Ads  personalization      True   \n",
      "2  a100000031      1/1/18         House Ads  personalization      True   \n",
      "3  a100000032      1/1/18         House Ads  personalization      True   \n",
      "4  a100000033      1/1/18         House Ads  personalization      True   \n",
      "\n",
      "  language_displayed language_preferred    age_group date_subscribed  \\\n",
      "0            English            English   0-18 years          1/1/18   \n",
      "1            English            English  19-24 years          1/1/18   \n",
      "2            English            English  24-30 years          1/1/18   \n",
      "3            English            English  30-36 years          1/1/18   \n",
      "4            English            English  36-45 years          1/1/18   \n",
      "\n",
      "  date_canceled subscribing_channel is_retained  \n",
      "0           NaN           House Ads        True  \n",
      "1           NaN           House Ads        True  \n",
      "2           NaN           House Ads        True  \n",
      "3           NaN           House Ads        True  \n",
      "4           NaN           House Ads        True  \n"
     ]
    }
   ],
   "source": [
    "# Import pandas into the environment\n",
    "import pandas as pd\n",
    "\n",
    "# Import marketing.csv \n",
    "marketing = pd.read_csv('/kaggle/input/marketing/marketing.csv')\n",
    "# Print the first five rows of the DataFrame\n",
    "print(marketing.head())"
   ]
  },
  {
   "cell_type": "code",
   "execution_count": 3,
   "id": "c2a5bcca",
   "metadata": {
    "execution": {
     "iopub.execute_input": "2025-03-05T17:57:22.948182Z",
     "iopub.status.busy": "2025-03-05T17:57:22.947721Z",
     "iopub.status.idle": "2025-03-05T17:57:22.953533Z",
     "shell.execute_reply": "2025-03-05T17:57:22.952243Z"
    },
    "papermill": {
     "duration": 0.017195,
     "end_time": "2025-03-05T17:57:22.955645",
     "exception": false,
     "start_time": "2025-03-05T17:57:22.938450",
     "status": "completed"
    },
    "tags": []
   },
   "outputs": [
    {
     "name": "stdout",
     "output_type": "stream",
     "text": [
      "object\n"
     ]
    }
   ],
   "source": [
    "# Check the data type of is_retained\n",
    "print(marketing['is_retained'].dtype)"
   ]
  },
  {
   "cell_type": "code",
   "execution_count": 4,
   "id": "02c212cf",
   "metadata": {
    "execution": {
     "iopub.execute_input": "2025-03-05T17:57:22.980918Z",
     "iopub.status.busy": "2025-03-05T17:57:22.980565Z",
     "iopub.status.idle": "2025-03-05T17:57:22.991462Z",
     "shell.execute_reply": "2025-03-05T17:57:22.990307Z"
    },
    "papermill": {
     "duration": 0.023502,
     "end_time": "2025-03-05T17:57:22.993684",
     "exception": false,
     "start_time": "2025-03-05T17:57:22.970182",
     "status": "completed"
    },
    "tags": []
   },
   "outputs": [],
   "source": [
    "# Mapping for channels\n",
    "channel_dict = {\"House Ads\": 1, \"Instagram\": 2, \n",
    "                \"Facebook\": 3, \"Email\": 4, \"Push\": 5}\n",
    "\n",
    "# Map the channel to a channel code\n",
    "marketing['channel_code'] = marketing['subscribing_channel'].map(channel_dict)"
   ]
  },
  {
   "cell_type": "code",
   "execution_count": 5,
   "id": "033709bb",
   "metadata": {
    "execution": {
     "iopub.execute_input": "2025-03-05T17:57:23.016636Z",
     "iopub.status.busy": "2025-03-05T17:57:23.016266Z",
     "iopub.status.idle": "2025-03-05T17:57:23.093819Z",
     "shell.execute_reply": "2025-03-05T17:57:23.092643Z"
    },
    "papermill": {
     "duration": 0.088331,
     "end_time": "2025-03-05T17:57:23.095764",
     "exception": false,
     "start_time": "2025-03-05T17:57:23.007433",
     "status": "completed"
    },
    "tags": []
   },
   "outputs": [
    {
     "name": "stderr",
     "output_type": "stream",
     "text": [
      "<ipython-input-5-ff12d96d8498>:5: UserWarning: Could not infer format, so each element will be parsed individually, falling back to `dateutil`. To ensure parsing is consistent and as-expected, please specify a format.\n",
      "  marketing = pd.read_csv('/kaggle/input/marketing/marketing.csv',parse_dates = ['date_served', 'date_subscribed', 'date_canceled'])\n",
      "<ipython-input-5-ff12d96d8498>:5: UserWarning: Could not infer format, so each element will be parsed individually, falling back to `dateutil`. To ensure parsing is consistent and as-expected, please specify a format.\n",
      "  marketing = pd.read_csv('/kaggle/input/marketing/marketing.csv',parse_dates = ['date_served', 'date_subscribed', 'date_canceled'])\n",
      "<ipython-input-5-ff12d96d8498>:5: UserWarning: Could not infer format, so each element will be parsed individually, falling back to `dateutil`. To ensure parsing is consistent and as-expected, please specify a format.\n",
      "  marketing = pd.read_csv('/kaggle/input/marketing/marketing.csv',parse_dates = ['date_served', 'date_subscribed', 'date_canceled'])\n"
     ]
    }
   ],
   "source": [
    "# Import pandas into the environment\n",
    "import pandas as pd\n",
    "\n",
    "# Import marketing.csv with date columns\n",
    "marketing = pd.read_csv('/kaggle/input/marketing/marketing.csv',parse_dates = ['date_served', 'date_subscribed', 'date_canceled'])\n",
    "\n",
    "# setting date format to avoid individual parsing\n",
    "marketing['date_served'] = pd.to_datetime(marketing['date_served'], format = '%m-%d-%Y', errors = 'coerce')\n",
    "marketing['date_subscribed'] = pd.to_datetime(marketing['date_subscribed'], format = '%m-%d-%Y', errors = 'coerce')\n",
    "marketing['date_canceled'] = pd.to_datetime(marketing['date_canceled'], format = '%m-%d-%Y', errors = 'coerce')\n",
    "\n",
    "# Add a DoW column\n",
    "marketing['DoW'] = marketing['date_subscribed'].dt.dayofweek"
   ]
  },
  {
   "cell_type": "code",
   "execution_count": 6,
   "id": "e8d1d829",
   "metadata": {
    "execution": {
     "iopub.execute_input": "2025-03-05T17:57:23.115127Z",
     "iopub.status.busy": "2025-03-05T17:57:23.114727Z",
     "iopub.status.idle": "2025-03-05T17:57:23.127976Z",
     "shell.execute_reply": "2025-03-05T17:57:23.126809Z"
    },
    "papermill": {
     "duration": 0.025933,
     "end_time": "2025-03-05T17:57:23.129674",
     "exception": false,
     "start_time": "2025-03-05T17:57:23.103741",
     "status": "completed"
    },
    "tags": []
   },
   "outputs": [
    {
     "name": "stdout",
     "output_type": "stream",
     "text": [
      "date_served\n",
      "2018-01-01    362\n",
      "2018-01-02    374\n",
      "2018-01-03    348\n",
      "2018-01-04    323\n",
      "2018-01-05    319\n",
      "Name: user_id, dtype: int64\n"
     ]
    }
   ],
   "source": [
    "# Group by date_served and count number of unique user_id's\n",
    "daily_users = marketing.groupby(['date_served'])['user_id'].nunique()\n",
    "\n",
    "# Print head of daily_users\n",
    "print(daily_users.head())"
   ]
  },
  {
   "cell_type": "code",
   "execution_count": 7,
   "id": "62e695dc",
   "metadata": {
    "execution": {
     "iopub.execute_input": "2025-03-05T17:57:23.146577Z",
     "iopub.status.busy": "2025-03-05T17:57:23.146254Z",
     "iopub.status.idle": "2025-03-05T17:57:23.585633Z",
     "shell.execute_reply": "2025-03-05T17:57:23.584374Z"
    },
    "papermill": {
     "duration": 0.450375,
     "end_time": "2025-03-05T17:57:23.587822",
     "exception": false,
     "start_time": "2025-03-05T17:57:23.137447",
     "status": "completed"
    },
    "tags": []
   },
   "outputs": [
    {
     "data": {
      "image/png": "[encoded data removed]",
      "text/plain": [
       "<Figure size 640x480 with 1 Axes>"
      ]
     },
     "metadata": {},
     "output_type": "display_data"
    }
   ],
   "source": [
    "import matplotlib.pyplot as plt\n",
    "# Plot daily_users\n",
    "daily_users.plot()\n",
    "\n",
    "# Include a title and y-axis label\n",
    "plt.title('Daily users')\n",
    "plt.ylabel('Number of users')\n",
    "\n",
    "# Rotate the x-axis labels by 45 degrees\n",
    "plt.xticks(rotation = 45)\n",
    "\n",
    "# Display the plot\n",
    "plt.show()"
   ]
  },
  {
   "cell_type": "code",
   "execution_count": 8,
   "id": "4a5cd650",
   "metadata": {
    "execution": {
     "iopub.execute_input": "2025-03-05T17:57:23.607376Z",
     "iopub.status.busy": "2025-03-05T17:57:23.606918Z",
     "iopub.status.idle": "2025-03-05T17:57:23.619410Z",
     "shell.execute_reply": "2025-03-05T17:57:23.618067Z"
    },
    "papermill": {
     "duration": 0.024467,
     "end_time": "2025-03-05T17:57:23.621477",
     "exception": false,
     "start_time": "2025-03-05T17:57:23.597010",
     "status": "completed"
    },
    "tags": []
   },
   "outputs": [
    {
     "name": "stdout",
     "output_type": "stream",
     "text": [
      "13.89 %\n"
     ]
    }
   ],
   "source": [
    "# Calculate the number of people we marketed to\n",
    "total = marketing['user_id'].nunique()\n",
    "\n",
    "# Calculate the number of people who subscribed\n",
    "subscribers = marketing[marketing['converted'] == True]['user_id'].nunique()\n",
    "\n",
    "# Calculate the conversion rate\n",
    "conversion_rate = subscribers/total\n",
    "print(round(conversion_rate*100, 2), \"%\")"
   ]
  },
  {
   "cell_type": "code",
   "execution_count": 9,
   "id": "1109a618",
   "metadata": {
    "execution": {
     "iopub.execute_input": "2025-03-05T17:57:23.641008Z",
     "iopub.status.busy": "2025-03-05T17:57:23.640548Z",
     "iopub.status.idle": "2025-03-05T17:57:23.654059Z",
     "shell.execute_reply": "2025-03-05T17:57:23.652833Z"
    },
    "papermill": {
     "duration": 0.025435,
     "end_time": "2025-03-05T17:57:23.656081",
     "exception": false,
     "start_time": "2025-03-05T17:57:23.630646",
     "status": "completed"
    },
    "tags": []
   },
   "outputs": [
    {
     "name": "stdout",
     "output_type": "stream",
     "text": [
      "66.8 %\n"
     ]
    },
    {
     "name": "stderr",
     "output_type": "stream",
     "text": [
      "<ipython-input-9-8b37ba0a66ec>:2: FutureWarning: Downcasting object dtype arrays on .fillna, .ffill, .bfill is deprecated and will change in a future version. Call result.infer_objects(copy=False) instead. To opt-in to the future behavior, set `pd.set_option('future.no_silent_downcasting', True)`\n",
      "  total_subscribers = marketing[marketing['converted'].fillna(False)]['user_id'].nunique()\n"
     ]
    }
   ],
   "source": [
    "# Calculate the number of subscribers\n",
    "total_subscribers = marketing[marketing['converted'].fillna(False)]['user_id'].nunique()\n",
    "\n",
    "# Calculate the number of people who remained subscribed\n",
    "retained = marketing[marketing['is_retained'] == True]['user_id'].nunique()\n",
    "\n",
    "# Calculate the retention rate\n",
    "retention_rate = retained / total_subscribers\n",
    "print(round(retention_rate*100, 2), \"%\")"
   ]
  },
  {
   "cell_type": "code",
   "execution_count": 10,
   "id": "8720a4ec",
   "metadata": {
    "execution": {
     "iopub.execute_input": "2025-03-05T17:57:23.676777Z",
     "iopub.status.busy": "2025-03-05T17:57:23.676363Z",
     "iopub.status.idle": "2025-03-05T17:57:23.691709Z",
     "shell.execute_reply": "2025-03-05T17:57:23.690089Z"
    },
    "papermill": {
     "duration": 0.0276,
     "end_time": "2025-03-05T17:57:23.693609",
     "exception": false,
     "start_time": "2025-03-05T17:57:23.666009",
     "status": "completed"
    },
    "tags": []
   },
   "outputs": [
    {
     "name": "stdout",
     "output_type": "stream",
     "text": [
      "English speaker conversion rate: 12.92 %\n"
     ]
    }
   ],
   "source": [
    "# Isolate english speakers\n",
    "english_speakers = marketing[marketing['language_displayed'] == 'English']\n",
    "\n",
    "# Calculate the total number of English speaking users\n",
    "total = english_speakers['user_id'].nunique()\n",
    "\n",
    "# Calculate the number of English speakers who converted\n",
    "subscribers = english_speakers[english_speakers['converted'] == True]['user_id'].nunique()\n",
    "\n",
    "# Calculate conversion rate\n",
    "conversion_rate = subscribers/total\n",
    "print('English speaker conversion rate:', round(conversion_rate*100,2), '%')"
   ]
  },
  {
   "cell_type": "code",
   "execution_count": 11,
   "id": "1c26cf66",
   "metadata": {
    "execution": {
     "iopub.execute_input": "2025-03-05T17:57:23.713365Z",
     "iopub.status.busy": "2025-03-05T17:57:23.712912Z",
     "iopub.status.idle": "2025-03-05T17:57:23.727654Z",
     "shell.execute_reply": "2025-03-05T17:57:23.726025Z"
    },
    "papermill": {
     "duration": 0.026958,
     "end_time": "2025-03-05T17:57:23.729788",
     "exception": false,
     "start_time": "2025-03-05T17:57:23.702830",
     "status": "completed"
    },
    "tags": []
   },
   "outputs": [
    {
     "name": "stdout",
     "output_type": "stream",
     "text": [
      "language_displayed\n",
      "Arabic     0.500000\n",
      "English    0.129167\n",
      "German     0.716216\n",
      "Spanish    0.200000\n",
      "Name: user_id, dtype: float64\n"
     ]
    }
   ],
   "source": [
    "# Group by language_displayed and count unique users\n",
    "total = marketing.groupby(['language_displayed'])['user_id'].nunique()\n",
    "\n",
    "# Group by language_displayed and count unique conversions\n",
    "subscribers = marketing[marketing['converted'] == True].groupby(['language_displayed'])['user_id'].nunique()\n",
    "\n",
    "# Calculate the conversion rate for all languages\n",
    "language_conversion_rate = subscribers / total\n",
    "print(language_conversion_rate)"
   ]
  },
  {
   "cell_type": "code",
   "execution_count": 12,
   "id": "6a7ffc66",
   "metadata": {
    "execution": {
     "iopub.execute_input": "2025-03-05T17:57:23.750802Z",
     "iopub.status.busy": "2025-03-05T17:57:23.750402Z",
     "iopub.status.idle": "2025-03-05T17:57:23.765050Z",
     "shell.execute_reply": "2025-03-05T17:57:23.763510Z"
    },
    "papermill": {
     "duration": 0.026765,
     "end_time": "2025-03-05T17:57:23.767056",
     "exception": false,
     "start_time": "2025-03-05T17:57:23.740291",
     "status": "completed"
    },
    "tags": []
   },
   "outputs": [
    {
     "name": "stdout",
     "output_type": "stream",
     "text": [
      "date_served\n",
      "2018-01-01    0.099448\n",
      "2018-01-02    0.098930\n",
      "2018-01-03    0.103448\n",
      "2018-01-04    0.108359\n",
      "2018-01-05    0.125392\n",
      "2018-01-06    0.113636\n",
      "2018-01-07    0.141818\n",
      "2018-01-08    0.115385\n",
      "2018-01-09    0.125000\n",
      "2018-01-10    0.118694\n",
      "2018-01-11    0.080645\n",
      "2018-01-12    0.076412\n",
      "2018-01-13    0.084967\n",
      "2018-01-14    0.085246\n",
      "2018-01-15    0.113429\n",
      "2018-01-16    0.255155\n",
      "2018-01-17    0.219512\n",
      "2018-01-18    0.091195\n",
      "2018-01-19    0.059016\n",
      "2018-01-20    0.067524\n",
      "2018-01-21    0.087336\n",
      "2018-01-22    0.123596\n",
      "2018-01-23    0.122093\n",
      "2018-01-24    0.115789\n",
      "2018-01-25    0.125000\n",
      "2018-01-26    0.090090\n",
      "2018-01-27    0.065625\n",
      "2018-01-28    0.062500\n",
      "2018-01-29    0.059561\n",
      "2018-01-30    0.066246\n",
      "2018-01-31    0.052941\n",
      "Name: user_id, dtype: float64\n"
     ]
    }
   ],
   "source": [
    "# Group by date_served and count unique users\n",
    "total = marketing.groupby(['date_served'])['user_id'].nunique()\n",
    "\n",
    "# Group by date_served and count unique converted users\n",
    "subscribers = marketing[marketing['converted']==True].groupby(['date_served'])['user_id'].nunique()\n",
    "\n",
    "# Calculate the conversion rate per day\n",
    "daily_conversion_rate = subscribers/total\n",
    "print(daily_conversion_rate)"
   ]
  },
  {
   "cell_type": "code",
   "execution_count": 13,
   "id": "8eeeb3d1",
   "metadata": {
    "execution": {
     "iopub.execute_input": "2025-03-05T17:57:23.786692Z",
     "iopub.status.busy": "2025-03-05T17:57:23.786372Z",
     "iopub.status.idle": "2025-03-05T17:57:23.986400Z",
     "shell.execute_reply": "2025-03-05T17:57:23.985276Z"
    },
    "papermill": {
     "duration": 0.212061,
     "end_time": "2025-03-05T17:57:23.988380",
     "exception": false,
     "start_time": "2025-03-05T17:57:23.776319",
     "status": "completed"
    },
    "tags": []
   },
   "outputs": [
    {
     "data": {
      "image/png": "[encoded data removed]",
      "text/plain": [
       "<Figure size 640x480 with 1 Axes>"
      ]
     },
     "metadata": {},
     "output_type": "display_data"
    }
   ],
   "source": [
    "# Create a bar chart using language_conversion_rate DataFrame\n",
    "language_conversion_rate.plot(kind = 'bar')\n",
    "\n",
    "# Add a title and x and y-axis labels\n",
    "plt.title('Conversion rate by language\\n', size = 16)\n",
    "plt.xlabel('Language', size = 14)\n",
    "plt.ylabel('Conversion rate (%)', size = 14)\n",
    "\n",
    "# Display the plot\n",
    "plt.show()"
   ]
  },
  {
   "cell_type": "code",
   "execution_count": 14,
   "id": "7af1d36c",
   "metadata": {
    "execution": {
     "iopub.execute_input": "2025-03-05T17:57:24.008428Z",
     "iopub.status.busy": "2025-03-05T17:57:24.008092Z",
     "iopub.status.idle": "2025-03-05T17:57:24.018765Z",
     "shell.execute_reply": "2025-03-05T17:57:24.017775Z"
    },
    "papermill": {
     "duration": 0.023208,
     "end_time": "2025-03-05T17:57:24.020942",
     "exception": false,
     "start_time": "2025-03-05T17:57:23.997734",
     "status": "completed"
    },
    "tags": []
   },
   "outputs": [],
   "source": [
    "# Group by date_served and count unique users\n",
    "total = marketing.groupby(['date_served'])['user_id']\\\n",
    "                     .nunique()\n",
    "\n",
    "# Group by date_served and calculate subscribers\n",
    "subscribers = marketing[marketing['converted'] == True]\\\n",
    "                         .groupby(['date_served'])\\\n",
    "                         ['user_id'].nunique()\n",
    "\n",
    "# Calculate the conversion rate for all languages\n",
    "daily_conversion_rates = subscribers/total"
   ]
  },
  {
   "cell_type": "code",
   "execution_count": 15,
   "id": "115f0275",
   "metadata": {
    "execution": {
     "iopub.execute_input": "2025-03-05T17:57:24.042441Z",
     "iopub.status.busy": "2025-03-05T17:57:24.042065Z",
     "iopub.status.idle": "2025-03-05T17:57:24.048733Z",
     "shell.execute_reply": "2025-03-05T17:57:24.047484Z"
    },
    "papermill": {
     "duration": 0.019681,
     "end_time": "2025-03-05T17:57:24.050570",
     "exception": false,
     "start_time": "2025-03-05T17:57:24.030889",
     "status": "completed"
    },
    "tags": []
   },
   "outputs": [],
   "source": [
    "# Reset index to turn the results into a DataFrame\n",
    "daily_conversion_rate = pd.DataFrame(daily_conversion_rates.reset_index())\n",
    "\n",
    "# Rename columns\n",
    "daily_conversion_rate.columns = ['date_served', \n",
    "                              'conversion_rate']"
   ]
  },
  {
   "cell_type": "code",
   "execution_count": 16,
   "id": "58c88f35",
   "metadata": {
    "execution": {
     "iopub.execute_input": "2025-03-05T17:57:24.071657Z",
     "iopub.status.busy": "2025-03-05T17:57:24.071303Z",
     "iopub.status.idle": "2025-03-05T17:57:24.348200Z",
     "shell.execute_reply": "2025-03-05T17:57:24.347069Z"
    },
    "papermill": {
     "duration": 0.289696,
     "end_time": "2025-03-05T17:57:24.350138",
     "exception": false,
     "start_time": "2025-03-05T17:57:24.060442",
     "status": "completed"
    },
    "tags": []
   },
   "outputs": [
    {
     "data": {
      "image/png": "[encoded data removed]",
      "text/plain": [
       "<Figure size 640x480 with 1 Axes>"
      ]
     },
     "metadata": {},
     "output_type": "display_data"
    }
   ],
   "source": [
    "# Create a line chart using daily_conversion_rate\n",
    "daily_conversion_rate.plot('date_served', 'conversion_rate')\n",
    "\n",
    "plt.title('Daily conversion rate\\n', size = 16)\n",
    "plt.ylabel('Conversion rate (%)', size = 14)\n",
    "plt.xlabel('Date', size = 14)\n",
    "\n",
    "# Set the y-axis to begin at 0\n",
    "plt.ylim(0)\n",
    "\n",
    "# Display the plot\n",
    "plt.show()"
   ]
  },
  {
   "cell_type": "code",
   "execution_count": 17,
   "id": "141c0e97",
   "metadata": {
    "execution": {
     "iopub.execute_input": "2025-03-05T17:57:24.371524Z",
     "iopub.status.busy": "2025-03-05T17:57:24.371188Z",
     "iopub.status.idle": "2025-03-05T17:57:24.747604Z",
     "shell.execute_reply": "2025-03-05T17:57:24.746345Z"
    },
    "papermill": {
     "duration": 0.389498,
     "end_time": "2025-03-05T17:57:24.749644",
     "exception": false,
     "start_time": "2025-03-05T17:57:24.360146",
     "status": "completed"
    },
    "tags": []
   },
   "outputs": [
    {
     "data": {
      "image/png": "[encoded data removed]",
      "text/plain": [
       "<Figure size 640x480 with 1 Axes>"
      ]
     },
     "metadata": {},
     "output_type": "display_data"
    }
   ],
   "source": [
    "channel_age = marketing.groupby(['marketing_channel', 'age_group'])\\\n",
    "                                ['user_id'].count()\n",
    "\n",
    "# Unstack channel_age and transform it into a DataFrame\n",
    "channel_age_df = pd.DataFrame(channel_age.unstack(level = 1))\n",
    "\n",
    "# Plot channel_age\n",
    "channel_age_df.plot(kind = 'bar')\n",
    "plt.title('Marketing channels by age group')\n",
    "plt.xlabel('Age Group')\n",
    "plt.ylabel('Users')\n",
    "# Add a legend to the plot\n",
    "plt.legend(loc = 'upper right', \n",
    "           labels = channel_age_df.columns.values)\n",
    "plt.show()"
   ]
  },
  {
   "cell_type": "code",
   "execution_count": 18,
   "id": "5fc4dbe2",
   "metadata": {
    "execution": {
     "iopub.execute_input": "2025-03-05T17:57:24.775070Z",
     "iopub.status.busy": "2025-03-05T17:57:24.774666Z",
     "iopub.status.idle": "2025-03-05T17:57:24.785300Z",
     "shell.execute_reply": "2025-03-05T17:57:24.783834Z"
    },
    "papermill": {
     "duration": 0.02531,
     "end_time": "2025-03-05T17:57:24.787191",
     "exception": false,
     "start_time": "2025-03-05T17:57:24.761881",
     "status": "completed"
    },
    "tags": []
   },
   "outputs": [
    {
     "name": "stdout",
     "output_type": "stream",
     "text": [
      "date_subscribed  subscribing_channel\n",
      "2018-01-01       Email                   1\n",
      "                 Facebook                8\n",
      "                 House Ads              16\n",
      "                 Instagram               8\n",
      "                 Push                    3\n",
      "Name: user_id, dtype: int64\n"
     ]
    }
   ],
   "source": [
    "# Count the subs by subscribing channel and day\n",
    "retention_total = marketing.groupby(['date_subscribed',\n",
    "                                     'subscribing_channel'])['user_id'].nunique()\n",
    "\n",
    "# Print results\n",
    "print(retention_total.head())"
   ]
  },
  {
   "cell_type": "code",
   "execution_count": 19,
   "id": "e344cce2",
   "metadata": {
    "execution": {
     "iopub.execute_input": "2025-03-05T17:57:24.811775Z",
     "iopub.status.busy": "2025-03-05T17:57:24.811377Z",
     "iopub.status.idle": "2025-03-05T17:57:24.928368Z",
     "shell.execute_reply": "2025-03-05T17:57:24.926844Z"
    },
    "papermill": {
     "duration": 0.13135,
     "end_time": "2025-03-05T17:57:24.930116",
     "exception": true,
     "start_time": "2025-03-05T17:57:24.798766",
     "status": "failed"
    },
    "tags": []
   },
   "outputs": [
    {
     "ename": "NameError",
     "evalue": "name 'retention_subs' is not defined",
     "output_type": "error",
     "traceback": [
      "\u001b[0;31m---------------------------------------------------------------------------\u001b[0m",
      "\u001b[0;31mNameError\u001b[0m                                 Traceback (most recent call last)",
      "\u001b[0;32m<ipython-input-19-eddd4cad6184>\u001b[0m in \u001b[0;36m<cell line: 2>\u001b[0;34m()\u001b[0m\n\u001b[1;32m      1\u001b[0m \u001b[0;31m# Divide retained subscribers by total subscribers\u001b[0m\u001b[0;34m\u001b[0m\u001b[0;34m\u001b[0m\u001b[0m\n\u001b[0;32m----> 2\u001b[0;31m \u001b[0mretention_rate\u001b[0m \u001b[0;34m=\u001b[0m \u001b[0mretention_subs\u001b[0m\u001b[0;34m/\u001b[0m\u001b[0mretention_total\u001b[0m\u001b[0;34m\u001b[0m\u001b[0;34m\u001b[0m\u001b[0m\n\u001b[0m\u001b[1;32m      3\u001b[0m \u001b[0mretention_rate_df\u001b[0m \u001b[0;34m=\u001b[0m \u001b[0mpd\u001b[0m\u001b[0;34m.\u001b[0m\u001b[0mDataFrame\u001b[0m\u001b[0;34m(\u001b[0m\u001b[0mretention_rate\u001b[0m\u001b[0;34m.\u001b[0m\u001b[0munstack\u001b[0m\u001b[0;34m(\u001b[0m\u001b[0mlevel\u001b[0m\u001b[0;34m=\u001b[0m\u001b[0;36m1\u001b[0m\u001b[0;34m)\u001b[0m\u001b[0;34m)\u001b[0m\u001b[0;34m\u001b[0m\u001b[0;34m\u001b[0m\u001b[0m\n\u001b[1;32m      4\u001b[0m \u001b[0;34m\u001b[0m\u001b[0m\n\u001b[1;32m      5\u001b[0m \u001b[0;31m# Plot retention rate\u001b[0m\u001b[0;34m\u001b[0m\u001b[0;34m\u001b[0m\u001b[0m\n",
      "\u001b[0;31mNameError\u001b[0m: name 'retention_subs' is not defined"
     ]
    }
   ],
   "source": [
    "# Divide retained subscribers by total subscribers\n",
    "retention_rate = retention_subs/retention_total\n",
    "retention_rate_df = pd.DataFrame(retention_rate.unstack(level=1))\n",
    "\n",
    "# Plot retention rate\n",
    "retention_rate_df.plot()\n",
    "\n",
    "# Add a title, x-label, y-label, legend and display the plot\n",
    "plt.title('Retention Rate by Subscribing Channel')\n",
    "plt.xlabel('Date Subscribed')\n",
    "plt.ylabel('Retention Rate (%)')\n",
    "plt.legend(loc = 'upper right',\n",
    "          labels = retention_rate_df.columns.values)\n",
    "plt.show()"
   ]
  },
  {
   "cell_type": "code",
   "execution_count": null,
   "id": "cf51e308",
   "metadata": {
    "execution": {
     "iopub.execute_input": "2025-03-05T17:16:35.453587Z",
     "iopub.status.busy": "2025-03-05T17:16:35.453222Z",
     "iopub.status.idle": "2025-03-05T17:16:35.458701Z",
     "shell.execute_reply": "2025-03-05T17:16:35.457621Z",
     "shell.execute_reply.started": "2025-03-05T17:16:35.453559Z"
    },
    "papermill": {
     "duration": null,
     "end_time": null,
     "exception": null,
     "start_time": null,
     "status": "pending"
    },
    "tags": []
   },
   "outputs": [],
   "source": [
    "def conversion_rate(dataframe, column_names):\n",
    "    # Total number of converted users\n",
    "    column_conv = dataframe[dataframe['converted']==True].groupby(column_names)['user_id'].nunique()\n",
    "\n",
    "    # Total number users\n",
    "    column_total = dataframe.groupby(column_names)['user_id'].nunique()\n",
    "    \n",
    "    # Conversion rate \n",
    "    conversion_rate = column_conv/column_total\n",
    "    \n",
    "    # Fill missing values with 0\n",
    "    conversion_rate = conversion_rate.fillna(0)\n",
    "    return conversion_rate"
   ]
  },
  {
   "cell_type": "code",
   "execution_count": null,
   "id": "e5baf337",
   "metadata": {
    "execution": {
     "iopub.execute_input": "2025-03-05T17:16:39.360873Z",
     "iopub.status.busy": "2025-03-05T17:16:39.360460Z",
     "iopub.status.idle": "2025-03-05T17:16:39.786673Z",
     "shell.execute_reply": "2025-03-05T17:16:39.785410Z",
     "shell.execute_reply.started": "2025-03-05T17:16:39.360838Z"
    },
    "papermill": {
     "duration": null,
     "end_time": null,
     "exception": null,
     "start_time": null,
     "status": "pending"
    },
    "tags": []
   },
   "outputs": [],
   "source": [
    "# Calculate conversion rate by age_group\n",
    "age_group_conv = conversion_rate(marketing, ['date_served', 'age_group'])\n",
    "print(age_group_conv)\n",
    "\n",
    "# Unstack and create a DataFrame\n",
    "age_group_df = pd.DataFrame(age_group_conv.unstack(level = 1))\n",
    "\n",
    "# Visualize conversion by age_group\n",
    "age_group_df.plot()\n",
    "plt.title('Conversion rate by age group\\n', size = 16)\n",
    "plt.ylabel('Conversion rate', size = 14)\n",
    "plt.xlabel('Age group', size = 14)\n",
    "plt.show()"
   ]
  },
  {
   "cell_type": "code",
   "execution_count": null,
   "id": "eb2ace0b",
   "metadata": {
    "execution": {
     "iopub.execute_input": "2025-03-05T17:16:40.269443Z",
     "iopub.status.busy": "2025-03-05T17:16:40.269096Z",
     "iopub.status.idle": "2025-03-05T17:16:40.274781Z",
     "shell.execute_reply": "2025-03-05T17:16:40.273501Z",
     "shell.execute_reply.started": "2025-03-05T17:16:40.269413Z"
    },
    "papermill": {
     "duration": null,
     "end_time": null,
     "exception": null,
     "start_time": null,
     "status": "pending"
    },
    "tags": []
   },
   "outputs": [],
   "source": [
    "def plotting_conv(dataframe):\n",
    "    for column in dataframe:\n",
    "        # Plot column by dataframe's index\n",
    "        plt.plot(dataframe.index, dataframe[column])\n",
    "        plt.title('Daily ' + str(column) + ' conversion rate\\n', \n",
    "                  size = 16)\n",
    "        plt.ylabel('Conversion rate', size = 14)\n",
    "        plt.xlabel('Date', size = 14)\n",
    "        # Show plot\n",
    "        plt.show()  \n",
    "        plt.clf()"
   ]
  },
  {
   "cell_type": "code",
   "execution_count": null,
   "id": "1bcdae0e",
   "metadata": {
    "execution": {
     "iopub.execute_input": "2025-03-05T17:16:41.636048Z",
     "iopub.status.busy": "2025-03-05T17:16:41.635610Z",
     "iopub.status.idle": "2025-03-05T17:16:43.475612Z",
     "shell.execute_reply": "2025-03-05T17:16:43.474578Z",
     "shell.execute_reply.started": "2025-03-05T17:16:41.635967Z"
    },
    "papermill": {
     "duration": null,
     "end_time": null,
     "exception": null,
     "start_time": null,
     "status": "pending"
    },
    "tags": []
   },
   "outputs": [],
   "source": [
    "# Calculate conversion rate by date served and age group\n",
    "age_group_conv = conversion_rate(marketing, ['date_served', 'age_group'])\n",
    "\n",
    "# Unstack age_group_conv and create a DataFrame\n",
    "age_group_df = pd.DataFrame(age_group_conv.unstack(level=1))\n",
    "\n",
    "# Plot the results\n",
    "plotting_conv(age_group_df)"
   ]
  },
  {
   "cell_type": "code",
   "execution_count": null,
   "id": "0068acc3",
   "metadata": {
    "execution": {
     "iopub.execute_input": "2025-03-05T17:16:43.477095Z",
     "iopub.status.busy": "2025-03-05T17:16:43.476787Z",
     "iopub.status.idle": "2025-03-05T17:16:43.496285Z",
     "shell.execute_reply": "2025-03-05T17:16:43.494961Z",
     "shell.execute_reply.started": "2025-03-05T17:16:43.477069Z"
    },
    "papermill": {
     "duration": null,
     "end_time": null,
     "exception": null,
     "start_time": null,
     "status": "pending"
    },
    "tags": []
   },
   "outputs": [],
   "source": [
    "# Calculate conversion rate by date served and channel\n",
    "daily_conv_channel = conversion_rate(marketing, ['date_served', 'marketing_channel'])\n",
    "\n",
    "print(daily_conv_channel.head())"
   ]
  },
  {
   "cell_type": "code",
   "execution_count": null,
   "id": "f21e74f4",
   "metadata": {
    "execution": {
     "iopub.execute_input": "2025-03-05T17:16:48.211772Z",
     "iopub.status.busy": "2025-03-05T17:16:48.211418Z",
     "iopub.status.idle": "2025-03-05T17:16:48.455008Z",
     "shell.execute_reply": "2025-03-05T17:16:48.454084Z",
     "shell.execute_reply.started": "2025-03-05T17:16:48.211743Z"
    },
    "papermill": {
     "duration": null,
     "end_time": null,
     "exception": null,
     "start_time": null,
     "status": "pending"
    },
    "tags": []
   },
   "outputs": [],
   "source": [
    "# Add day of week column to marketing\n",
    "marketing['DoW_served'] = marketing['date_served'].dt.dayofweek\n",
    "\n",
    "# Calculate conversion rate by day of week\n",
    "DoW_conversion = conversion_rate(marketing, ['DoW_served', 'marketing_channel'])\n",
    "\n",
    "\n",
    "# Unstack channels\n",
    "DoW_df = pd.DataFrame(DoW_conversion.unstack(level=1))\n",
    "\n",
    "# Plot conversion rate by day of week\n",
    "DoW_df.plot()\n",
    "plt.title('Conversion rate by day of week\\n')\n",
    "plt.ylim(0)\n",
    "plt.show()"
   ]
  },
  {
   "cell_type": "code",
   "execution_count": null,
   "id": "1d7035b9",
   "metadata": {
    "execution": {
     "iopub.execute_input": "2025-03-05T17:18:41.499924Z",
     "iopub.status.busy": "2025-03-05T17:18:41.499586Z",
     "iopub.status.idle": "2025-03-05T17:18:42.399494Z",
     "shell.execute_reply": "2025-03-05T17:18:42.398640Z",
     "shell.execute_reply.started": "2025-03-05T17:18:41.499898Z"
    },
    "papermill": {
     "duration": null,
     "end_time": null,
     "exception": null,
     "start_time": null,
     "status": "pending"
    },
    "tags": []
   },
   "outputs": [],
   "source": [
    "# Isolate the rows where marketing channel is House Ads\n",
    "house_ads = marketing[marketing['marketing_channel'] == 'House Ads']\n",
    "\n",
    "# Calculate conversion by date served, and language displayed\n",
    "conv_lang_channel = conversion_rate(house_ads, ['date_served', 'language_displayed'])\n",
    "\n",
    "# Unstack conv_lang_channel\n",
    "conv_lang_df = pd.DataFrame(conv_lang_channel.unstack(level=1))\n",
    "\n",
    "# Use your plotting function to display results\n",
    "plotting_conv(conv_lang_df)"
   ]
  },
  {
   "cell_type": "code",
   "execution_count": null,
   "id": "2ac929d7",
   "metadata": {
    "execution": {
     "iopub.execute_input": "2025-03-05T17:18:42.401018Z",
     "iopub.status.busy": "2025-03-05T17:18:42.400751Z",
     "iopub.status.idle": "2025-03-05T17:18:42.416271Z",
     "shell.execute_reply": "2025-03-05T17:18:42.415198Z",
     "shell.execute_reply.started": "2025-03-05T17:18:42.400995Z"
    },
    "papermill": {
     "duration": null,
     "end_time": null,
     "exception": null,
     "start_time": null,
     "status": "pending"
    },
    "tags": []
   },
   "outputs": [],
   "source": [
    "# Add the new column is_correct_lang\n",
    "house_ads['is_correct_lang'] = np.where(\n",
    "    house_ads['language_displayed'] == house_ads['language_preferred'], \n",
    "    'Yes', \n",
    "    'No')\n",
    "\n",
    "# Groupby date_served and correct_language\n",
    "language_check = house_ads.groupby(['date_served', 'is_correct_lang'])['date_served'].count()\n",
    "\n",
    "# Unstack language_check and fill missing values with 0's\n",
    "language_check_df = pd.DataFrame(language_check.unstack(level=1)).fillna(0)\n",
    "\n",
    "# Print results\n",
    "print(language_check_df)"
   ]
  },
  {
   "cell_type": "code",
   "execution_count": null,
   "id": "44027719",
   "metadata": {
    "execution": {
     "iopub.execute_input": "2025-03-05T17:18:42.418258Z",
     "iopub.status.busy": "2025-03-05T17:18:42.417851Z",
     "iopub.status.idle": "2025-03-05T17:18:42.614720Z",
     "shell.execute_reply": "2025-03-05T17:18:42.613730Z",
     "shell.execute_reply.started": "2025-03-05T17:18:42.418217Z"
    },
    "papermill": {
     "duration": null,
     "end_time": null,
     "exception": null,
     "start_time": null,
     "status": "pending"
    },
    "tags": []
   },
   "outputs": [],
   "source": [
    "# Divide the count where language is correct by the row sum\n",
    "language_check_df['pct'] = language_check_df['Yes']/language_check_df.sum(axis = 1)\n",
    "\n",
    "# Plot and show your results\n",
    "plt.plot(language_check_df.index, language_check_df['pct'])\n",
    "plt.show()"
   ]
  },
  {
   "cell_type": "code",
   "execution_count": null,
   "id": "09c78a5b",
   "metadata": {
    "execution": {
     "iopub.execute_input": "2025-03-05T17:23:01.840364Z",
     "iopub.status.busy": "2025-03-05T17:23:01.839970Z",
     "iopub.status.idle": "2025-03-05T17:23:01.853766Z",
     "shell.execute_reply": "2025-03-05T17:23:01.852765Z",
     "shell.execute_reply.started": "2025-03-05T17:23:01.840332Z"
    },
    "papermill": {
     "duration": null,
     "end_time": null,
     "exception": null,
     "start_time": null,
     "status": "pending"
    },
    "tags": []
   },
   "outputs": [],
   "source": [
    "# Calculate pre-error conversion rate\n",
    "house_ads_bug = house_ads[house_ads['date_served'] < '2018-01-11']\n",
    "lang_conv = conversion_rate(house_ads_bug, 'language_displayed')\n",
    "\n",
    "# Index other language conversion rate against English\n",
    "spanish_index = lang_conv['Spanish']/lang_conv['English']\n",
    "arabic_index = lang_conv['Arabic']/lang_conv['English']\n",
    "german_index = lang_conv['German']/lang_conv['English']\n",
    "\n",
    "print(\"Spanish index:\", spanish_index)\n",
    "print(\"Arabic index:\", arabic_index)\n",
    "print(\"German index:\", german_index)"
   ]
  },
  {
   "cell_type": "code",
   "execution_count": null,
   "id": "9aeaab8a",
   "metadata": {
    "execution": {
     "iopub.execute_input": "2025-03-05T17:23:02.188843Z",
     "iopub.status.busy": "2025-03-05T17:23:02.188498Z",
     "iopub.status.idle": "2025-03-05T17:23:02.201264Z",
     "shell.execute_reply": "2025-03-05T17:23:02.200177Z",
     "shell.execute_reply.started": "2025-03-05T17:23:02.188816Z"
    },
    "papermill": {
     "duration": null,
     "end_time": null,
     "exception": null,
     "start_time": null,
     "status": "pending"
    },
    "tags": []
   },
   "outputs": [],
   "source": [
    "# Group house_ads by date and language\n",
    "converted = house_ads.groupby(['date_served', 'language_preferred'])\\\n",
    "                        .agg({'user_id':'nunique',\n",
    "                              'converted':'sum'})\n",
    "\n",
    "# Unstack converted\n",
    "converted_df = pd.DataFrame(converted.unstack(level = 1))"
   ]
  },
  {
   "cell_type": "code",
   "execution_count": null,
   "id": "2d5ca530",
   "metadata": {
    "execution": {
     "iopub.execute_input": "2025-03-05T17:31:01.138692Z",
     "iopub.status.busy": "2025-03-05T17:31:01.138313Z",
     "iopub.status.idle": "2025-03-05T17:31:01.163067Z",
     "shell.execute_reply": "2025-03-05T17:31:01.161938Z",
     "shell.execute_reply.started": "2025-03-05T17:31:01.138661Z"
    },
    "papermill": {
     "duration": null,
     "end_time": null,
     "exception": null,
     "start_time": null,
     "status": "pending"
    },
    "tags": []
   },
   "outputs": [],
   "source": [
    "# Select English users using xs() since we have a MultiIndex\n",
    "english_users = converted.xs('English', level='language_preferred')\n",
    "\n",
    "# Filter by date range\n",
    "english_users_filtered = english_users.loc['2018-01-11':'2018-01-31']\n",
    "\n",
    "# Calculate English conversion rate\n",
    "converted['english_conv_rate'] = english_users_filtered['converted'] / english_users_filtered['user_id']\n",
    "\n",
    "# Create expected conversion rates for each language\n",
    "converted['expected_spanish_rate'] = converted['english_conv_rate'] * spanish_index\n",
    "converted['expected_arabic_rate'] = converted['english_conv_rate'] * arabic_index\n",
    "converted['expected_german_rate'] = converted['english_conv_rate'] * german_index\n",
    "\n",
    "# Multiply by the number of users per language\n",
    "converted['expected_spanish_conv'] = converted['expected_spanish_rate'] * converted.xs('Spanish', level='language_preferred')['user_id'] / 100\n",
    "converted['expected_arabic_conv'] = converted['expected_arabic_rate'] * converted.xs('Arabic', level='language_preferred')['user_id'] / 100\n",
    "converted['expected_german_conv'] = converted['expected_german_rate'] * converted.xs('German', level='language_preferred')['user_id'] / 100\n"
   ]
  },
  {
   "cell_type": "code",
   "execution_count": null,
   "id": "6b90934b",
   "metadata": {
    "execution": {
     "iopub.execute_input": "2025-03-05T17:37:17.681169Z",
     "iopub.status.busy": "2025-03-05T17:37:17.680798Z",
     "iopub.status.idle": "2025-03-05T17:37:17.694198Z",
     "shell.execute_reply": "2025-03-05T17:37:17.693156Z",
     "shell.execute_reply.started": "2025-03-05T17:37:17.681137Z"
    },
    "papermill": {
     "duration": null,
     "end_time": null,
     "exception": null,
     "start_time": null,
     "status": "pending"
    },
    "tags": []
   },
   "outputs": [],
   "source": [
    "# Use .loc to slice only the relevant dates\n",
    "converted = converted.loc['2018-01-11':'2018-01-31']\n",
    "\n",
    "# Sum expected subscribers for each language (using .xs() to handle MultiIndex)\n",
    "expected_subs = (\n",
    "    converted.xs('Spanish', level='language_preferred')['expected_spanish_conv'].sum() +\n",
    "    converted.xs('Arabic', level='language_preferred')['expected_arabic_conv'].sum() +\n",
    "    converted.xs('German', level='language_preferred')['expected_german_conv'].sum()\n",
    ")\n",
    "\n",
    "# Calculate how many subscribers we actually got\n",
    "actual_subs = (\n",
    "    converted.xs('Spanish', level='language_preferred')['converted'].sum() + # apply sum only on converted column\n",
    "    converted.xs('Arabic', level='language_preferred')['converted'].sum() +\n",
    "    converted.xs('German', level='language_preferred')['converted'].sum()\n",
    ")\n",
    "\n",
    "# Calculate lost subscribers\n",
    "lost_subs = expected_subs - actual_subs\n",
    "print(lost_subs)\n"
   ]
  },
  {
   "cell_type": "code",
   "execution_count": null,
   "id": "b6426e07",
   "metadata": {
    "execution": {
     "iopub.execute_input": "2025-03-05T17:44:28.595446Z",
     "iopub.status.busy": "2025-03-05T17:44:28.595062Z",
     "iopub.status.idle": "2025-03-05T17:44:28.758320Z",
     "shell.execute_reply": "2025-03-05T17:44:28.757254Z",
     "shell.execute_reply.started": "2025-03-05T17:44:28.595413Z"
    },
    "papermill": {
     "duration": null,
     "end_time": null,
     "exception": null,
     "start_time": null,
     "status": "pending"
    },
    "tags": []
   },
   "outputs": [],
   "source": [
    "# Subset the DataFrame\n",
    "email = marketing[marketing['marketing_channel'] == 'Email']\n",
    "\n",
    "# Group the email DataFrame by variant \n",
    "alloc = email.groupby('variant')['user_id'].nunique()\n",
    "\n",
    "# Plot a bar chart of the test allocation\n",
    "alloc.plot(kind = 'bar')\n",
    "plt.title('Personalization test allocation')\n",
    "plt.ylabel('# participants')\n",
    "plt.show()"
   ]
  },
  {
   "cell_type": "code",
   "execution_count": null,
   "id": "69fa7a67",
   "metadata": {
    "execution": {
     "iopub.execute_input": "2025-03-05T17:44:37.317386Z",
     "iopub.status.busy": "2025-03-05T17:44:37.316986Z",
     "iopub.status.idle": "2025-03-05T17:44:37.365698Z",
     "shell.execute_reply": "2025-03-05T17:44:37.364588Z",
     "shell.execute_reply.started": "2025-03-05T17:44:37.317354Z"
    },
    "papermill": {
     "duration": null,
     "end_time": null,
     "exception": null,
     "start_time": null,
     "status": "pending"
    },
    "tags": []
   },
   "outputs": [],
   "source": [
    "# Group marketing by user_id and variant\n",
    "subscribers = email.groupby(['user_id', \n",
    "                             'variant'])['converted'].max()\n",
    "subscribers_df = pd.DataFrame(subscribers.unstack(level=1)) \n",
    "\n",
    "# Drop missing values from the control column\n",
    "control = subscribers_df['control'].dropna()\n",
    "\n",
    "# Drop missing values from the personalization column\n",
    "personalization = subscribers_df['personalization'].dropna()\n",
    "\n",
    "print('Control conversion rate:', np.mean(control))\n",
    "print('Personalization conversion rate:', np.mean(personalization))"
   ]
  },
  {
   "cell_type": "code",
   "execution_count": null,
   "id": "e43b5fac",
   "metadata": {
    "execution": {
     "iopub.execute_input": "2025-03-05T17:48:04.793693Z",
     "iopub.status.busy": "2025-03-05T17:48:04.793313Z",
     "iopub.status.idle": "2025-03-05T17:48:04.800110Z",
     "shell.execute_reply": "2025-03-05T17:48:04.799173Z",
     "shell.execute_reply.started": "2025-03-05T17:48:04.793661Z"
    },
    "papermill": {
     "duration": null,
     "end_time": null,
     "exception": null,
     "start_time": null,
     "status": "pending"
    },
    "tags": []
   },
   "outputs": [],
   "source": [
    "def lift(a,b):\n",
    "    # Calcuate the mean of a and b\n",
    "    a_mean = np.mean(a)\n",
    "    b_mean = np.mean(b)\n",
    "    \n",
    "    # Calculate the lift using a_mean and b_mean\n",
    "    lift = (b_mean - a_mean)/ a_mean\n",
    "  \n",
    "    return str(round(lift*100, 2)) + '%'\n",
    "  \n",
    "# Print lift() with control and personalization as inputs\n",
    "print(lift(control, personalization))"
   ]
  },
  {
   "cell_type": "code",
   "execution_count": null,
   "id": "afaa9277",
   "metadata": {
    "execution": {
     "iopub.execute_input": "2025-03-05T17:56:27.023221Z",
     "iopub.status.busy": "2025-03-05T17:56:27.022886Z",
     "iopub.status.idle": "2025-03-05T17:56:27.029180Z",
     "shell.execute_reply": "2025-03-05T17:56:27.028078Z",
     "shell.execute_reply.started": "2025-03-05T17:56:27.023196Z"
    },
    "papermill": {
     "duration": null,
     "end_time": null,
     "exception": null,
     "start_time": null,
     "status": "pending"
    },
    "tags": []
   },
   "outputs": [],
   "source": [
    "from scipy import stats\n",
    "def ab_segmentation(segment):\n",
    "  # Build a for loop for each subsegment in marketing\n",
    "  for subsegment in np.unique(marketing['language_displayed']):\n",
    "      print(subsegment)\n",
    "      \n",
    "      # Limit marketing to email and subsegment\n",
    "      email = marketing[(marketing['marketing_channel'] == 'Email') & (marketing[segment] == subsegment)]\n",
    "      \n",
    "      subscribers = email.groupby(['user_id', 'variant'])['converted'].max()\n",
    "      subscribers = pd.DataFrame(subscribers.unstack(level=1)) \n",
    "      control = subscribers['control'].dropna()\n",
    "      personalization = subscribers['personalization'].dropna()\n",
    "\n",
    "      print('lift:', lift(control, personalization))\n",
    "      print('t-statistic:', stats.ttest_ind(control, personalization), '\\n\\n')"
   ]
  },
  {
   "cell_type": "code",
   "execution_count": null,
   "id": "efdec473",
   "metadata": {
    "execution": {
     "iopub.execute_input": "2025-03-05T17:56:27.502523Z",
     "iopub.status.busy": "2025-03-05T17:56:27.502166Z",
     "iopub.status.idle": "2025-03-05T17:56:27.538728Z",
     "shell.execute_reply": "2025-03-05T17:56:27.537358Z",
     "shell.execute_reply.started": "2025-03-05T17:56:27.502491Z"
    },
    "papermill": {
     "duration": null,
     "end_time": null,
     "exception": null,
     "start_time": null,
     "status": "pending"
    },
    "tags": []
   },
   "outputs": [],
   "source": [
    "# Use ab_segmentation on language displayed\n",
    "ab_segmentation('language_displayed')"
   ]
  }
 ],
 "metadata": {
  "kaggle": {
   "accelerator": "none",
   "dataSources": [
    {
     "datasetId": 6797889,
     "sourceId": 10932417,
     "sourceType": "datasetVersion"
    },
    {
     "datasetId": 6797892,
     "sourceId": 10932420,
     "sourceType": "datasetVersion"
    }
   ],
   "dockerImageVersionId": 30918,
   "isGpuEnabled": false,
   "isInternetEnabled": true,
   "language": "python",
   "sourceType": "notebook"
  },
  "kernelspec": {
   "display_name": "Python 3",
   "language": "python",
   "name": "python3"
  },
  "language_info": {
   "codemirror_mode": {
    "name": "ipython",
    "version": 3
   },
   "file_extension": ".py",
   "mimetype": "text/x-python",
   "name": "python",
   "nbconvert_exporter": "python",
   "pygments_lexer": "ipython3",
   "version": "3.10.12"
  },
  "papermill": {
   "default_parameters": {},
   "duration": 6.737933,
   "end_time": "2025-03-05T17:57:25.563350",
   "environment_variables": {},
   "exception": true,
   "input_path": "__notebook__.ipynb",
   "output_path": "__notebook__.ipynb",
   "parameters": {},
   "start_time": "2025-03-05T17:57:18.825417",
   "version": "2.6.0"
  }
 },
 "nbformat": 4,
 "nbformat_minor": 5
}
